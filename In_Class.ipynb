{
  "nbformat": 4,
  "nbformat_minor": 0,
  "metadata": {
    "colab": {
      "provenance": [],
      "authorship_tag": "ABX9TyNNzHM0GDVtlcymbkbQ9WSO",
      "include_colab_link": true
    },
    "kernelspec": {
      "name": "python3",
      "display_name": "Python 3"
    },
    "language_info": {
      "name": "python"
    }
  },
  "cells": [
    {
      "cell_type": "markdown",
      "metadata": {
        "id": "view-in-github",
        "colab_type": "text"
      },
      "source": [
        "<a href=\"https://colab.research.google.com/github/damiandelaguardia/BTE-Assignments-/blob/main/In_Class.ipynb\" target=\"_parent\"><img src=\"https://colab.research.google.com/assets/colab-badge.svg\" alt=\"Open In Colab\"/></a>"
      ]
    },
    {
      "cell_type": "code",
      "execution_count": null,
      "metadata": {
        "id": "3nAndIPVuGUd",
        "colab": {
          "base_uri": "https://localhost:8080/"
        },
        "outputId": "5af7a241-22b9-4e50-bd73-ebe37bd4ccf6"
      },
      "outputs": [
        {
          "output_type": "stream",
          "name": "stdout",
          "text": [
            "244.92000000000002\n"
          ]
        }
      ],
      "source": [
        "r= 3\n",
        "pi= 3.14\n",
        "h = 10\n",
        "Area = 2*pi*r**2 + 2*pi*r*h\n",
        "print(Area)"
      ]
    },
    {
      "cell_type": "code",
      "source": [
        "p1 = input(\"Choose r,p,s:\")\n",
        "p2 = input(\"Choose r,p,s:\")\n",
        "\n",
        "if p1 == p2:\n",
        "  print('Draw')\n",
        "elif (p1 == 'r' and p2 == 's') or (p1 == 's' and p2 == 'p') or (p1 == 'p' and p2 == 'r'):\n",
        "  print('p1 wins!')\n",
        "else:\n",
        "  print('p2 wins!')\n"
      ],
      "metadata": {
        "colab": {
          "base_uri": "https://localhost:8080/"
        },
        "id": "4DM5QX4f8eFK",
        "outputId": "dcb9dde0-13e9-4019-fe00-4249fae73645"
      },
      "execution_count": null,
      "outputs": [
        {
          "output_type": "stream",
          "name": "stdout",
          "text": [
            "Choose r,p,s:r\n",
            "Choose r,p,s:p\n",
            "p2 wins!\n"
          ]
        }
      ]
    },
    {
      "cell_type": "code",
      "source": [
        "n1 = float(input())\n",
        "n2 = float(input())\n",
        "\n",
        "Symbol = input(\"Choose op:\")\n",
        "if Symbol == \"+\":\n",
        "  print(n1+n2)\n",
        "if Symbol == \"-\":\n",
        "  print(n1-n2)\n",
        "if Symbol == \"*\":\n",
        "  print(n1*n2)\n",
        "if Symbol == \"/\":\n",
        "  print(n1/n2)"
      ],
      "metadata": {
        "colab": {
          "base_uri": "https://localhost:8080/"
        },
        "id": "dd5zBd_JBx1I",
        "outputId": "3dc7f9fa-f31e-4a14-94d7-d1ce28897f21"
      },
      "execution_count": null,
      "outputs": [
        {
          "output_type": "stream",
          "name": "stdout",
          "text": [
            "10\n",
            "2\n",
            "Choose op:/\n",
            "5.0\n"
          ]
        }
      ]
    },
    {
      "cell_type": "code",
      "source": [],
      "metadata": {
        "id": "MXiInDoR9uow"
      },
      "execution_count": null,
      "outputs": []
    },
    {
      "cell_type": "code",
      "source": [
        "c = input('Do you want to play rock, paper, scissors?: ')\n",
        "\n",
        "while c == 'yes':\n",
        "  p1 = input(\"Choose r,p,s: \")\n",
        "  p2 = input(\"Choose r,p,s: \")\n",
        "  if p1 == p2:\n",
        "   print('Draw')\n",
        "  elif (p1 == 'r' and p2 == 's') or (p1 == 's' and p2 == 'p') or (p1 == 'p' and p2 == 'r'):\n",
        "   print('p1 wins!')\n",
        "  else:\n",
        "   print('p2 wins!')\n",
        "  c = input('Play again?: ')\n",
        "else:\n",
        "  print('Thanks for playing!')\n",
        "\n",
        "\n"
      ],
      "metadata": {
        "colab": {
          "base_uri": "https://localhost:8080/"
        },
        "outputId": "957b4029-5365-42c3-887b-9ef291cbeff8",
        "id": "2cqx-G5Q9ykW"
      },
      "execution_count": null,
      "outputs": [
        {
          "output_type": "stream",
          "name": "stdout",
          "text": [
            "Do you want to play rock, paper, scissors?: yes\n",
            "Choose r,p,s: p\n",
            "Choose r,p,s: r\n",
            "p1 wins!\n",
            "Play again?: no\n",
            "Thanks for playing!\n"
          ]
        }
      ]
    },
    {
      "cell_type": "code",
      "source": [],
      "metadata": {
        "id": "Fr2lyFkZAf-Z"
      },
      "execution_count": null,
      "outputs": []
    },
    {
      "cell_type": "code",
      "source": [
        "import random\n",
        "\n",
        "c = input('Do you want to play rock, paper, scissors?: ')\n",
        "\n",
        "while c == 'yes':\n",
        "  p1 = input(\"Choose r,p,s: \")\n",
        "  p2 = random.choice(['r','p','s'])\n",
        "\n",
        "  print(f'Computer chose {p2}.')\n",
        "  if p1 == p2:\n",
        "   print('Draw')\n",
        "  elif (p1 == 'r' and p2 == 's') or (p1 == 's' and p2 == 'p') or (p1 == 'p' and p2 == 'r'):\n",
        "   print('p1 wins!')\n",
        "  else:\n",
        "   print('Computer wins!')\n",
        "  c = input('Play again?: ')\n",
        "else:\n",
        "  print('Thanks for playing!')\n"
      ],
      "metadata": {
        "colab": {
          "base_uri": "https://localhost:8080/"
        },
        "id": "qUIXuPX2CLYd",
        "outputId": "42ab21b7-5482-4ac4-ac12-dc0d2a1322ff"
      },
      "execution_count": null,
      "outputs": [
        {
          "output_type": "stream",
          "name": "stdout",
          "text": [
            "Do you want to play rock, paper, scissors?: yes\n",
            "Choose r,p,s: r\n",
            "Computer chose s.\n",
            "p1 wins!\n",
            "Play again?: no\n",
            "Thanks for playing!\n"
          ]
        }
      ]
    },
    {
      "cell_type": "code",
      "source": [
        "for i in range(1,9,1):\n",
        "  charge = 5 + 2.5 * i\n",
        "  print(i, charge)\n"
      ],
      "metadata": {
        "id": "yO1yXT35G8pe",
        "outputId": "36dfbbb6-1698-42d4-dcba-9408d46b56bb",
        "colab": {
          "base_uri": "https://localhost:8080/"
        }
      },
      "execution_count": null,
      "outputs": [
        {
          "output_type": "stream",
          "name": "stdout",
          "text": [
            "1 7.5\n",
            "2 10.0\n",
            "3 12.5\n",
            "4 15.0\n",
            "5 17.5\n",
            "6 20.0\n",
            "7 22.5\n",
            "8 25.0\n"
          ]
        }
      ]
    },
    {
      "cell_type": "code",
      "source": [
        "for i in range(1,9,1):\n",
        "  charge = 5 + 2.5 * i\n",
        "  if charge < 10:\n",
        "    charge = 10\n",
        "  elif charge > 20:\n",
        "    charge = 20\n",
        "  print(i, charge)"
      ],
      "metadata": {
        "id": "lVX0ofnRG_7G",
        "outputId": "3ed8377f-0dc8-4e38-fa2d-11b753a43dd1",
        "colab": {
          "base_uri": "https://localhost:8080/"
        }
      },
      "execution_count": null,
      "outputs": [
        {
          "output_type": "stream",
          "name": "stdout",
          "text": [
            "1 10\n",
            "2 10.0\n",
            "3 12.5\n",
            "4 15.0\n",
            "5 17.5\n",
            "6 20.0\n",
            "7 20\n",
            "8 20\n"
          ]
        }
      ]
    },
    {
      "cell_type": "code",
      "source": [
        "fixedcost = 200\n",
        "ticket = 10\n",
        "att = 20\n",
        "\n",
        "for i in range(0,201,25):\n",
        "  profit = ticket * (att + 2 * round(i ** 0.5)) - fixedcost - i\n",
        "  print(i, profit)\n"
      ],
      "metadata": {
        "colab": {
          "base_uri": "https://localhost:8080/"
        },
        "id": "up2PauxKKjyu",
        "outputId": "d9f48627-fbc3-496c-8c2f-a5c1bdda1076"
      },
      "execution_count": null,
      "outputs": [
        {
          "output_type": "stream",
          "name": "stdout",
          "text": [
            "0 0\n",
            "25 75\n",
            "50 90\n",
            "75 105\n",
            "100 100\n",
            "125 95\n",
            "150 90\n",
            "175 85\n",
            "200 80\n"
          ]
        }
      ]
    },
    {
      "cell_type": "code",
      "source": [
        "fixedcost = 200\n",
        "ticket = 10\n",
        "att = 20\n",
        "\n",
        "i = 0\n",
        "\n",
        "while i < 201:\n",
        "  profit = ticket * (att + 2 * round(i ** 0.5)) - fixedcost - i\n",
        "  print(i, profit)\n",
        "  i = i + 25\n"
      ],
      "metadata": {
        "colab": {
          "base_uri": "https://localhost:8080/"
        },
        "id": "uqGYHXLlSZQx",
        "outputId": "98c86daa-238e-431a-ce4d-b72b122a6878"
      },
      "execution_count": null,
      "outputs": [
        {
          "output_type": "stream",
          "name": "stdout",
          "text": [
            "0 0\n",
            "25 75\n",
            "50 90\n",
            "75 105\n",
            "100 100\n",
            "125 95\n",
            "150 90\n",
            "175 85\n",
            "200 80\n"
          ]
        }
      ]
    },
    {
      "cell_type": "code",
      "source": [
        "L = []\n",
        "item = int(input('Give a value: '))\n",
        "while item != 0:\n",
        "  L.append(item)\n",
        "  item = int(input('Give another value: '))\n",
        "print(L)\n"
      ],
      "metadata": {
        "colab": {
          "base_uri": "https://localhost:8080/"
        },
        "id": "aKC7qLMGZ7dU",
        "outputId": "dc1202ec-639b-446d-caa6-595cc30dfe54"
      },
      "execution_count": null,
      "outputs": [
        {
          "output_type": "stream",
          "name": "stdout",
          "text": [
            "Give a value: 1\n",
            "Give another value: 4\n",
            "Give another value: 5\n",
            "Give another value: 6\n",
            "Give another value: 8\n",
            "Give another value: 9\n",
            "Give another value: 0\n",
            "[1, 4, 5, 6, 8, 9]\n"
          ]
        }
      ]
    },
    {
      "cell_type": "code",
      "source": [
        "L = []\n",
        "\n",
        "while True:\n",
        "  item = int(input('Give another value: '))\n",
        "  if item == 0:\n",
        "    break\n",
        "  L.append(item)\n",
        "print(L)"
      ],
      "metadata": {
        "colab": {
          "base_uri": "https://localhost:8080/"
        },
        "id": "6suEyLHmbQv6",
        "outputId": "7e09dda5-0338-4925-c52a-271fc612c905"
      },
      "execution_count": null,
      "outputs": [
        {
          "output_type": "stream",
          "name": "stdout",
          "text": [
            "Give another value: 1\n",
            "Give another value: 5\n",
            "Give another value: 7\n",
            "Give another value: 8\n",
            "Give another value: 0\n",
            "[1, 5, 7, 8]\n"
          ]
        }
      ]
    },
    {
      "cell_type": "code",
      "source": [
        "months = {}\n",
        "\n",
        "names = ['Jan','Feb','Mar','Apr','May','Jun','Jul','Aug','Sep','Oct','Nov','Dec']\n",
        "numbers = [1, 2, 3, 4, 5, 6, 7, 8, 9, 10, 11, 12]\n",
        "\n",
        "for i in range(0,12):\n",
        "  months[numbers[i]]=names[i] #\n",
        "\n",
        "print(months)\n"
      ],
      "metadata": {
        "colab": {
          "base_uri": "https://localhost:8080/"
        },
        "id": "o90602tbFcen",
        "outputId": "c3f5c4f6-969d-4cf9-fd74-1b7ddf7dc216"
      },
      "execution_count": null,
      "outputs": [
        {
          "output_type": "stream",
          "name": "stdout",
          "text": [
            "{1: 'Jan', 2: 'Feb', 3: 'Mar', 4: 'Apr', 5: 'May', 6: 'Jun', 7: 'Jul', 8: 'Aug', 9: 'Sep', 10: 'Oct', 11: 'Nov', 12: 'Dec'}\n"
          ]
        }
      ]
    },
    {
      "cell_type": "code",
      "source": [
        "months = {}\n",
        "\n",
        "names = ['Jan','Feb','Mar','Apr','May','Jun','Jul','Aug','Sep','Oct','Nov','Dec']\n",
        "numbers = [1, 2, 3, 4, 5, 6, 7, 8, 9, 10, 11, 12]\n",
        "\n",
        "for i in range(len(numbers)):\n",
        "  months[numbers[i]] = names[i]\n",
        "\n",
        "months"
      ],
      "metadata": {
        "colab": {
          "base_uri": "https://localhost:8080/"
        },
        "id": "md9YigmFLEsU",
        "outputId": "d0430b36-faa3-4c5e-bb91-0011f28c0636"
      },
      "execution_count": null,
      "outputs": [
        {
          "output_type": "execute_result",
          "data": {
            "text/plain": [
              "{1: 'Jan',\n",
              " 2: 'Feb',\n",
              " 3: 'Mar',\n",
              " 4: 'Apr',\n",
              " 5: 'May',\n",
              " 6: 'Jun',\n",
              " 7: 'Jul',\n",
              " 8: 'Aug',\n",
              " 9: 'Sep',\n",
              " 10: 'Oct',\n",
              " 11: 'Nov',\n",
              " 12: 'Dec'}"
            ]
          },
          "metadata": {},
          "execution_count": 20
        }
      ]
    },
    {
      "cell_type": "code",
      "source": [
        "months = {}\n",
        "\n",
        "names = ['Jan','Feb','Mar','Apr','May','Jun','Jul','Aug','Sep','Oct','Nov','Dec']\n",
        "numbers = [1, 2, 3, 4, 5, 6, 7, 8, 9, 10, 11, 12]\n",
        "\n",
        "for n in numbers:\n",
        "  months[n] = names[n-1]\n",
        "\n",
        "months"
      ],
      "metadata": {
        "colab": {
          "base_uri": "https://localhost:8080/"
        },
        "id": "vDslYPehLonR",
        "outputId": "4b998835-b47b-4d48-9caa-60f8cd13dfdf"
      },
      "execution_count": null,
      "outputs": [
        {
          "output_type": "execute_result",
          "data": {
            "text/plain": [
              "{1: 'Jan',\n",
              " 2: 'Feb',\n",
              " 3: 'Mar',\n",
              " 4: 'Apr',\n",
              " 5: 'May',\n",
              " 6: 'Jun',\n",
              " 7: 'Jul',\n",
              " 8: 'Aug',\n",
              " 9: 'Sep',\n",
              " 10: 'Oct',\n",
              " 11: 'Nov',\n",
              " 12: 'Dec'}"
            ]
          },
          "metadata": {},
          "execution_count": 21
        }
      ]
    },
    {
      "cell_type": "code",
      "source": [
        "months = {}\n",
        "\n",
        "names = ['Jan','Feb','Mar','Apr','May','Jun','Jul','Aug','Sep','Oct','Nov','Dec']\n",
        "numbers = [1, 2, 3, 4, 5, 6, 7, 8, 9, 10, 11, 12]\n",
        "\n",
        "for i in range(12):\n",
        "  months[i+1] = names[i]\n",
        "\n",
        "months"
      ],
      "metadata": {
        "colab": {
          "base_uri": "https://localhost:8080/"
        },
        "id": "-l4vQ121L8wI",
        "outputId": "78f54ea3-90fd-4f00-8c3d-d03d6715f113"
      },
      "execution_count": null,
      "outputs": [
        {
          "output_type": "execute_result",
          "data": {
            "text/plain": [
              "{1: 'Jan',\n",
              " 2: 'Feb',\n",
              " 3: 'Mar',\n",
              " 4: 'Apr',\n",
              " 5: 'May',\n",
              " 6: 'Jun',\n",
              " 7: 'Jul',\n",
              " 8: 'Aug',\n",
              " 9: 'Sep',\n",
              " 10: 'Oct',\n",
              " 11: 'Nov',\n",
              " 12: 'Dec'}"
            ]
          },
          "metadata": {},
          "execution_count": 23
        }
      ]
    },
    {
      "cell_type": "code",
      "source": [
        "def calcFee(hours):\n",
        "  fee = 5 + hours * 2.5\n",
        "  return fee\n",
        "\n",
        "h = int(input('Enter number of hours: '))\n",
        "fee = calcFee(h)\n",
        "print(fee)"
      ],
      "metadata": {
        "colab": {
          "base_uri": "https://localhost:8080/"
        },
        "id": "sAnuj1fwPzGb",
        "outputId": "90faf27d-9fd4-4b85-d20d-76052c74b58f"
      },
      "execution_count": null,
      "outputs": [
        {
          "output_type": "stream",
          "name": "stdout",
          "text": [
            "Enter number of hours: 2\n",
            "10.0\n"
          ]
        }
      ]
    },
    {
      "cell_type": "code",
      "source": [
        "def calcFee(hours,decimals = 2):\n",
        "  fee = 5 + hours * 2.5\n",
        "  fee = round(fee, decimals)\n",
        "  return fee\n",
        "\n",
        "def displayFee(fee):\n",
        "  print(fee)\n",
        "\n",
        "h = int(input('Enter number of hours: '))\n",
        "fee = calcFee(h)\n",
        "displayFee(fee)"
      ],
      "metadata": {
        "colab": {
          "base_uri": "https://localhost:8080/"
        },
        "id": "M5tMBXIfSsGA",
        "outputId": "ebb07d45-be4e-49fb-8177-9db74a64542e"
      },
      "execution_count": null,
      "outputs": [
        {
          "output_type": "stream",
          "name": "stdout",
          "text": [
            "Enter number of hours: 2\n",
            "10.0\n"
          ]
        }
      ]
    },
    {
      "cell_type": "code",
      "source": [
        "s = \"Hello\"\n",
        "\n",
        "def res(s):\n",
        "  if len(s) == 1:\n",
        "    return s\n",
        "  else:\n",
        "    return \"olleH\"\n",
        "print(res(s))"
      ],
      "metadata": {
        "colab": {
          "base_uri": "https://localhost:8080/"
        },
        "id": "0S2vOgh8UkXl",
        "outputId": "02608af6-aae7-487c-94e4-fe2f7c699e71"
      },
      "execution_count": null,
      "outputs": [
        {
          "output_type": "stream",
          "name": "stdout",
          "text": [
            "olleH\n"
          ]
        }
      ]
    },
    {
      "cell_type": "markdown",
      "source": [
        "rev(s[1:]) + s[0]\n",
        "s[-1] + rev(s[1:-1]"
      ],
      "metadata": {
        "id": "b4L3trP9ZZXw"
      }
    },
    {
      "cell_type": "code",
      "source": [
        "def rev(s):\n",
        "  if len(s) == 1:\n",
        "    return s\n",
        "  else:\n",
        "    return s[-1] + rev(s[:-1])\n",
        "rev(\"hal\")"
      ],
      "metadata": {
        "id": "yNfwAl3CZFXA",
        "colab": {
          "base_uri": "https://localhost:8080/",
          "height": 35
        },
        "outputId": "b1010cc9-d876-49a9-9a3b-e01d7058bfec"
      },
      "execution_count": null,
      "outputs": [
        {
          "output_type": "execute_result",
          "data": {
            "text/plain": [
              "'lah'"
            ],
            "application/vnd.google.colaboratory.intrinsic+json": {
              "type": "string"
            }
          },
          "metadata": {},
          "execution_count": 1
        }
      ]
    },
    {
      "cell_type": "markdown",
      "source": [
        "The next In-Class assignment shows all the possible answers of the code"
      ],
      "metadata": {
        "id": "LDslLa2V2JEH"
      }
    },
    {
      "cell_type": "code",
      "source": [
        "def weighted_average(L, w):\n",
        "  res = []\n",
        "  try:\n",
        "   for i in range(len(L)):\n",
        "    res.append(L[i] * w[i])\n",
        "   return sum(res) / sum(w)\n",
        "  except ZeroDivisionError:\n",
        "    print('Division by Zero')\n",
        "    return []\n",
        "  except TypeError:\n",
        "    print('Non-numerical value found')\n",
        "    return []\n",
        "  except Exception as e:\n",
        "    print(f'Unknown error')\n",
        "    return float('nan')\n",
        "\n",
        "weighted_average([1,2,3], [0.1,0.3,0.4])\n"
      ],
      "metadata": {
        "colab": {
          "base_uri": "https://localhost:8080/"
        },
        "id": "5n8TgGsp2Td-",
        "outputId": "daeb1784-491b-442c-da1d-9571da79012d"
      },
      "execution_count": null,
      "outputs": [
        {
          "output_type": "execute_result",
          "data": {
            "text/plain": [
              "2.375"
            ]
          },
          "metadata": {},
          "execution_count": 2
        }
      ]
    },
    {
      "cell_type": "code",
      "source": [
        "def weighted_average(L, w):\n",
        "  res = []\n",
        "  try:\n",
        "   for i in range(len(L)):\n",
        "    res.append(L[i] * w[i])\n",
        "   return sum(res) / sum(w)\n",
        "  except ZeroDivisionError:\n",
        "    print('Division by Zero')\n",
        "    return []\n",
        "  except TypeError:\n",
        "    print('Non-numerical value found')\n",
        "    return []\n",
        "  except Exception as e:\n",
        "    print(f'Unknown error: {e}')\n",
        "    return float('nan')\n",
        "\n",
        "weighted_average([1,2,3], [])"
      ],
      "metadata": {
        "colab": {
          "base_uri": "https://localhost:8080/"
        },
        "id": "cOmOlH0H2VZs",
        "outputId": "09282990-5f0d-4d28-94c8-0f5165b5a304"
      },
      "execution_count": null,
      "outputs": [
        {
          "output_type": "stream",
          "name": "stdout",
          "text": [
            "Unknown error: list index out of range\n"
          ]
        },
        {
          "output_type": "execute_result",
          "data": {
            "text/plain": [
              "nan"
            ]
          },
          "metadata": {},
          "execution_count": 3
        }
      ]
    },
    {
      "cell_type": "code",
      "source": [
        "def weighted_average(L, w):\n",
        "  res = []\n",
        "  try:\n",
        "   for i in range(len(L)):\n",
        "    res.append(L[i] * w[i])\n",
        "   return sum(res) / sum(w)\n",
        "  except ZeroDivisionError:\n",
        "    print('Division by Zero')\n",
        "    return []\n",
        "  except TypeError:\n",
        "    print('Non-numerical value found')\n",
        "    return []\n",
        "  except Exception as e:\n",
        "    print(f'Unknown error')\n",
        "    return float('nan')\n",
        "\n",
        "weighted_average([1,'2',3], [0.1,0.3,0.4])"
      ],
      "metadata": {
        "colab": {
          "base_uri": "https://localhost:8080/"
        },
        "id": "2g8mHoxq2YIs",
        "outputId": "6809469f-0ac5-4032-f2e4-cbeed18e27de"
      },
      "execution_count": null,
      "outputs": [
        {
          "output_type": "stream",
          "name": "stdout",
          "text": [
            "Non-numerical value found\n"
          ]
        },
        {
          "output_type": "execute_result",
          "data": {
            "text/plain": [
              "[]"
            ]
          },
          "metadata": {},
          "execution_count": 4
        }
      ]
    },
    {
      "cell_type": "code",
      "source": [
        "def weighted_average(L, w):\n",
        "  res = []\n",
        "  try:\n",
        "   for i in range(len(L)):\n",
        "    res.append(L[i] * w[i])\n",
        "   return sum(res) / sum(w)\n",
        "  except ZeroDivisionError:\n",
        "    print('Division by Zero')\n",
        "    return []\n",
        "  except TypeError:\n",
        "    print('Non-numerical value found')\n",
        "    return []\n",
        "  except Exception as e:\n",
        "    print(f'Unknown error')\n",
        "    return float('nan')\n",
        "\n",
        "weighted_average([1,2,3], [0.2,0,-0.2])"
      ],
      "metadata": {
        "colab": {
          "base_uri": "https://localhost:8080/"
        },
        "id": "NAyuhICQ2aag",
        "outputId": "005b75a2-69cf-4845-dd09-8025460a9c37"
      },
      "execution_count": null,
      "outputs": [
        {
          "output_type": "stream",
          "name": "stdout",
          "text": [
            "Division by Zero\n"
          ]
        },
        {
          "output_type": "execute_result",
          "data": {
            "text/plain": [
              "[]"
            ]
          },
          "metadata": {},
          "execution_count": 5
        }
      ]
    },
    {
      "cell_type": "code",
      "source": [
        "class Student:\n",
        " def __init__(self,name,number):\n",
        "   \"\"\"\n",
        "\n",
        "   Initialize Student Search.\n",
        "\n",
        "   Args:\n",
        "   name(str): Name of the student.\n",
        "   number(str): Number of the student.\n",
        "   \"\"\"\n",
        "   self.name = name\n",
        "   self.number = number\n",
        "\n",
        " def describe(self):\n",
        "    print(f'name: {self.name}.')\n",
        "    print(f'number: {self.number}.')\n",
        "\n",
        "\n",
        "\n",
        "\n"
      ],
      "metadata": {
        "id": "DV2CVT4onN6g"
      },
      "execution_count": 22,
      "outputs": []
    },
    {
      "cell_type": "code",
      "source": [
        "a = Student(\"Clark Kent\", 333)\n",
        "b = Student(\"James Bond\", \"007\")"
      ],
      "metadata": {
        "id": "KE6gyTLKpTd9"
      },
      "execution_count": 26,
      "outputs": []
    },
    {
      "cell_type": "code",
      "source": [
        "a.describe()"
      ],
      "metadata": {
        "colab": {
          "base_uri": "https://localhost:8080/"
        },
        "id": "AUJzj-vspeYY",
        "outputId": "bb88524d-ac70-4622-b597-711017fa9cca"
      },
      "execution_count": 25,
      "outputs": [
        {
          "output_type": "stream",
          "name": "stdout",
          "text": [
            "name: Clark Kent.\n",
            "number: 333.\n"
          ]
        }
      ]
    },
    {
      "cell_type": "code",
      "source": [
        "b.describe()"
      ],
      "metadata": {
        "colab": {
          "base_uri": "https://localhost:8080/"
        },
        "id": "QuEXFm95q69L",
        "outputId": "ceb41cfd-4864-4acc-c716-f37a728e34de"
      },
      "execution_count": 27,
      "outputs": [
        {
          "output_type": "stream",
          "name": "stdout",
          "text": [
            "name: James Bond.\n",
            "number: 007.\n"
          ]
        }
      ]
    },
    {
      "cell_type": "code",
      "source": [
        "a.name"
      ],
      "metadata": {
        "colab": {
          "base_uri": "https://localhost:8080/",
          "height": 35
        },
        "id": "UIEyvIvlrBHM",
        "outputId": "3d3bf0df-073f-46c7-806c-33a281b27ebf"
      },
      "execution_count": 28,
      "outputs": [
        {
          "output_type": "execute_result",
          "data": {
            "text/plain": [
              "'Clark Kent'"
            ],
            "application/vnd.google.colaboratory.intrinsic+json": {
              "type": "string"
            }
          },
          "metadata": {},
          "execution_count": 28
        }
      ]
    },
    {
      "cell_type": "code",
      "source": [
        "b.name"
      ],
      "metadata": {
        "colab": {
          "base_uri": "https://localhost:8080/",
          "height": 35
        },
        "id": "r_bRcwMmrCKa",
        "outputId": "6e0aa88b-2c5f-4231-9c9e-ee56f64fae92"
      },
      "execution_count": 29,
      "outputs": [
        {
          "output_type": "execute_result",
          "data": {
            "text/plain": [
              "'James Bond'"
            ],
            "application/vnd.google.colaboratory.intrinsic+json": {
              "type": "string"
            }
          },
          "metadata": {},
          "execution_count": 29
        }
      ]
    },
    {
      "cell_type": "code",
      "source": [
        "a.number"
      ],
      "metadata": {
        "colab": {
          "base_uri": "https://localhost:8080/"
        },
        "id": "iNKvc9RKrDWr",
        "outputId": "613893d0-c8fa-450d-ce7b-458567010e05"
      },
      "execution_count": 30,
      "outputs": [
        {
          "output_type": "execute_result",
          "data": {
            "text/plain": [
              "333"
            ]
          },
          "metadata": {},
          "execution_count": 30
        }
      ]
    },
    {
      "cell_type": "code",
      "source": [
        "b.number"
      ],
      "metadata": {
        "colab": {
          "base_uri": "https://localhost:8080/",
          "height": 35
        },
        "id": "j-mDkZYtrFJR",
        "outputId": "1b6d44fc-f4fb-4757-b61d-868ffdca8b6d"
      },
      "execution_count": 31,
      "outputs": [
        {
          "output_type": "execute_result",
          "data": {
            "text/plain": [
              "'007'"
            ],
            "application/vnd.google.colaboratory.intrinsic+json": {
              "type": "string"
            }
          },
          "metadata": {},
          "execution_count": 31
        }
      ]
    }
  ]
}