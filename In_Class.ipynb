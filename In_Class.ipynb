{
  "nbformat": 4,
  "nbformat_minor": 0,
  "metadata": {
    "colab": {
      "provenance": [],
      "authorship_tag": "ABX9TyPpLDAvH8nyJp38sfkpMetF",
      "include_colab_link": true
    },
    "kernelspec": {
      "name": "python3",
      "display_name": "Python 3"
    },
    "language_info": {
      "name": "python"
    }
  },
  "cells": [
    {
      "cell_type": "markdown",
      "metadata": {
        "id": "view-in-github",
        "colab_type": "text"
      },
      "source": [
        "<a href=\"https://colab.research.google.com/github/damiandelaguardia/BTE-Assignments-/blob/main/In_Class.ipynb\" target=\"_parent\"><img src=\"https://colab.research.google.com/assets/colab-badge.svg\" alt=\"Open In Colab\"/></a>"
      ]
    },
    {
      "cell_type": "code",
      "execution_count": null,
      "metadata": {
        "id": "3nAndIPVuGUd",
        "colab": {
          "base_uri": "https://localhost:8080/"
        },
        "outputId": "5af7a241-22b9-4e50-bd73-ebe37bd4ccf6"
      },
      "outputs": [
        {
          "output_type": "stream",
          "name": "stdout",
          "text": [
            "244.92000000000002\n"
          ]
        }
      ],
      "source": [
        "r= 3\n",
        "pi= 3.14\n",
        "h = 10\n",
        "Area = 2*pi*r**2 + 2*pi*r*h\n",
        "print(Area)"
      ]
    },
    {
      "cell_type": "code",
      "source": [
        "p1 = input(\"Choose r,p,s:\")\n",
        "p2 = input(\"Choose r,p,s:\")\n",
        "\n",
        "if p1 == p2:\n",
        "  print('Draw')\n",
        "elif (p1 == 'r' and p2 == 's') or (p1 == 's' and p2 == 'p') or (p1 == 'p' and p2 == 'r'):\n",
        "  print('p1 wins!')\n",
        "else:\n",
        "  print('p2 wins!')\n"
      ],
      "metadata": {
        "colab": {
          "base_uri": "https://localhost:8080/"
        },
        "id": "4DM5QX4f8eFK",
        "outputId": "dcb9dde0-13e9-4019-fe00-4249fae73645"
      },
      "execution_count": 1,
      "outputs": [
        {
          "output_type": "stream",
          "name": "stdout",
          "text": [
            "Choose r,p,s:r\n",
            "Choose r,p,s:p\n",
            "p2 wins!\n"
          ]
        }
      ]
    },
    {
      "cell_type": "code",
      "source": [
        "n1 = float(input())\n",
        "n2 = float(input())\n",
        "\n",
        "Symbol = input(\"Choose op:\")\n",
        "if Symbol == \"+\":\n",
        "  print(n1+n2)\n",
        "if Symbol == \"-\":\n",
        "  print(n1-n2)\n",
        "if Symbol == \"*\":\n",
        "  print(n1*n2)\n",
        "if Symbol == \"/\":\n",
        "  print(n1/n2)"
      ],
      "metadata": {
        "id": "dd5zBd_JBx1I",
        "outputId": "3dc7f9fa-f31e-4a14-94d7-d1ce28897f21",
        "colab": {
          "base_uri": "https://localhost:8080/"
        }
      },
      "execution_count": 2,
      "outputs": [
        {
          "output_type": "stream",
          "name": "stdout",
          "text": [
            "10\n",
            "2\n",
            "Choose op:/\n",
            "5.0\n"
          ]
        }
      ]
    }
  ]
}