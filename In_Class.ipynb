{
  "nbformat": 4,
  "nbformat_minor": 0,
  "metadata": {
    "colab": {
      "provenance": [],
      "authorship_tag": "ABX9TyOSmUKiV2XGATo1ksQRoa/T",
      "include_colab_link": true
    },
    "kernelspec": {
      "name": "python3",
      "display_name": "Python 3"
    },
    "language_info": {
      "name": "python"
    }
  },
  "cells": [
    {
      "cell_type": "markdown",
      "metadata": {
        "id": "view-in-github",
        "colab_type": "text"
      },
      "source": [
        "<a href=\"https://colab.research.google.com/github/damiandelaguardia/BTE-Assignments-/blob/main/In_Class.ipynb\" target=\"_parent\"><img src=\"https://colab.research.google.com/assets/colab-badge.svg\" alt=\"Open In Colab\"/></a>"
      ]
    },
    {
      "cell_type": "code",
      "execution_count": null,
      "metadata": {
        "id": "3nAndIPVuGUd",
        "colab": {
          "base_uri": "https://localhost:8080/"
        },
        "outputId": "5af7a241-22b9-4e50-bd73-ebe37bd4ccf6"
      },
      "outputs": [
        {
          "output_type": "stream",
          "name": "stdout",
          "text": [
            "244.92000000000002\n"
          ]
        }
      ],
      "source": [
        "r= 3\n",
        "pi= 3.14\n",
        "h = 10\n",
        "Area = 2*pi*r**2 + 2*pi*r*h\n",
        "print(Area)"
      ]
    },
    {
      "cell_type": "code",
      "source": [
        "p1 = input(\"Choose r,p,s:\")\n",
        "p2 = input(\"Choose r,p,s:\")\n",
        "\n",
        "if p1 == p2:\n",
        "  print('Draw')\n",
        "elif (p1 == 'r' and p2 == 's') or (p1 == 's' and p2 == 'p') or (p1 == 'p' and p2 == 'r'):\n",
        "  print('p1 wins!')\n",
        "else:\n",
        "  print('p2 wins!')\n"
      ],
      "metadata": {
        "colab": {
          "base_uri": "https://localhost:8080/"
        },
        "id": "4DM5QX4f8eFK",
        "outputId": "dcb9dde0-13e9-4019-fe00-4249fae73645"
      },
      "execution_count": null,
      "outputs": [
        {
          "output_type": "stream",
          "name": "stdout",
          "text": [
            "Choose r,p,s:r\n",
            "Choose r,p,s:p\n",
            "p2 wins!\n"
          ]
        }
      ]
    },
    {
      "cell_type": "code",
      "source": [
        "n1 = float(input())\n",
        "n2 = float(input())\n",
        "\n",
        "Symbol = input(\"Choose op:\")\n",
        "if Symbol == \"+\":\n",
        "  print(n1+n2)\n",
        "if Symbol == \"-\":\n",
        "  print(n1-n2)\n",
        "if Symbol == \"*\":\n",
        "  print(n1*n2)\n",
        "if Symbol == \"/\":\n",
        "  print(n1/n2)"
      ],
      "metadata": {
        "colab": {
          "base_uri": "https://localhost:8080/"
        },
        "id": "dd5zBd_JBx1I",
        "outputId": "3dc7f9fa-f31e-4a14-94d7-d1ce28897f21"
      },
      "execution_count": null,
      "outputs": [
        {
          "output_type": "stream",
          "name": "stdout",
          "text": [
            "10\n",
            "2\n",
            "Choose op:/\n",
            "5.0\n"
          ]
        }
      ]
    },
    {
      "cell_type": "code",
      "source": [],
      "metadata": {
        "id": "MXiInDoR9uow"
      },
      "execution_count": null,
      "outputs": []
    },
    {
      "cell_type": "code",
      "source": [
        "c = input('Do you want to play rock, paper, scissors?: ')\n",
        "\n",
        "while c == 'yes':\n",
        "  p1 = input(\"Choose r,p,s: \")\n",
        "  p2 = input(\"Choose r,p,s: \")\n",
        "  if p1 == p2:\n",
        "   print('Draw')\n",
        "  elif (p1 == 'r' and p2 == 's') or (p1 == 's' and p2 == 'p') or (p1 == 'p' and p2 == 'r'):\n",
        "   print('p1 wins!')\n",
        "  else:\n",
        "   print('p2 wins!')\n",
        "  c = input('Play again?: ')\n",
        "else:\n",
        "  print('Thanks for playing!')\n",
        "\n",
        "\n"
      ],
      "metadata": {
        "colab": {
          "base_uri": "https://localhost:8080/"
        },
        "outputId": "957b4029-5365-42c3-887b-9ef291cbeff8",
        "id": "2cqx-G5Q9ykW"
      },
      "execution_count": 26,
      "outputs": [
        {
          "output_type": "stream",
          "name": "stdout",
          "text": [
            "Do you want to play rock, paper, scissors?: yes\n",
            "Choose r,p,s: p\n",
            "Choose r,p,s: r\n",
            "p1 wins!\n",
            "Play again?: no\n",
            "Thanks for playing!\n"
          ]
        }
      ]
    },
    {
      "cell_type": "code",
      "source": [],
      "metadata": {
        "id": "Fr2lyFkZAf-Z"
      },
      "execution_count": null,
      "outputs": []
    },
    {
      "cell_type": "code",
      "source": [
        "import random\n",
        "\n",
        "c = input('Do you want to play rock, paper, scissors?: ')\n",
        "\n",
        "while c == 'yes':\n",
        "  p1 = input(\"Choose r,p,s: \")\n",
        "  p2 = random.choice(['r','p','s'])\n",
        "\n",
        "  print(f'Computer chose {p2}.')\n",
        "  if p1 == p2:\n",
        "   print('Draw')\n",
        "  elif (p1 == 'r' and p2 == 's') or (p1 == 's' and p2 == 'p') or (p1 == 'p' and p2 == 'r'):\n",
        "   print('p1 wins!')\n",
        "  else:\n",
        "   print('Computer wins!')\n",
        "  c = input('Play again?: ')\n",
        "else:\n",
        "  print('Thanks for playing!')\n"
      ],
      "metadata": {
        "colab": {
          "base_uri": "https://localhost:8080/"
        },
        "id": "qUIXuPX2CLYd",
        "outputId": "42ab21b7-5482-4ac4-ac12-dc0d2a1322ff"
      },
      "execution_count": 27,
      "outputs": [
        {
          "output_type": "stream",
          "name": "stdout",
          "text": [
            "Do you want to play rock, paper, scissors?: yes\n",
            "Choose r,p,s: r\n",
            "Computer chose s.\n",
            "p1 wins!\n",
            "Play again?: no\n",
            "Thanks for playing!\n"
          ]
        }
      ]
    }
  ]
}